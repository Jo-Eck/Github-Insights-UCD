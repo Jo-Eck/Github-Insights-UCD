{
 "cells": [
  {
   "cell_type": "code",
   "execution_count": 6,
   "metadata": {},
   "outputs": [],
   "source": [
    "import sqlite3\n",
    "import pandas as pd"
   ]
  },
  {
   "cell_type": "code",
   "execution_count": 7,
   "metadata": {},
   "outputs": [],
   "source": [
    "large_db = sqlite3.connect('./github_repos.db')\n",
    "sample_db = sqlite3.connect('./sampel_data.db')"
   ]
  },
  {
   "cell_type": "code",
   "execution_count": 8,
   "metadata": {},
   "outputs": [],
   "source": [
    "sample_db.execute(\"\"\"\n",
    "           CREATE TABLE IF NOT EXISTS users (\n",
    "               id TEXT PRIMARY KEY,\n",
    "               name TEXT NOT NULL,\n",
    "               location TEXT,\n",
    "               addedToDB datetime,\n",
    "               createdAt datetime\n",
    "            )\n",
    "              \"\"\")\n",
    "\n",
    "sample_db.execute(\"\"\" \n",
    "           CREATE TABLE IF NOT EXISTS repos (\n",
    "               id TEXT PRIMARY KEY,\n",
    "               name TEXT NOT NULL,\n",
    "               owner TEXT,\n",
    "               url TEXT,\n",
    "               stargazerCount INTEGER,\n",
    "               watchers INTEGER,\n",
    "               primaryLanguage text,\n",
    "               isFork boolean,\n",
    "               forkCount INTEGER,\n",
    "               updatedAt datetime,\n",
    "               createdAt datetime,\n",
    "               addedToDB datetime,\n",
    "               allCommits boolean,\n",
    "               FOREIGN KEY (owner) REFERENCES users(id)\n",
    "            )\n",
    "           \"\"\")\n",
    "\n",
    "sample_db.execute(\"\"\"\n",
    "           CREATE TABLE IF NOT EXISTS commits (\n",
    "               id TEXT PRIMARY KEY,\n",
    "               repo TEXT NOT NULL,\n",
    "               user TEXT,\n",
    "               createdAt datetime,\n",
    "               additions INTEGER,\n",
    "               deletions INTEGER,\n",
    "               addedToDB datetime,\n",
    "               FOREIGN KEY (repo) REFERENCES repos(id),\n",
    "               FOREIGN KEY (user) REFERENCES users(id)\n",
    "            )\n",
    "            \"\"\")\n",
    "\n",
    "sample_db.commit()"
   ]
  },
  {
   "cell_type": "code",
   "execution_count": 9,
   "metadata": {},
   "outputs": [
    {
     "data": {
      "text/plain": [
       "10000"
      ]
     },
     "execution_count": 9,
     "metadata": {},
     "output_type": "execute_result"
    }
   ],
   "source": [
    "# This will transfer a random subset of the data from the large db into the sample db\n",
    "\n",
    "pd.read_sql_query(\"\"\" \n",
    "                 SELECT * FROM users\n",
    "                 ORDER BY RANDOM()\n",
    "                 LIMIT 100\n",
    "                 \"\"\", large_db).to_sql('users', sample_db, if_exists='append', index=False)\n",
    "\n",
    "pd.read_sql_query(\"\"\" \n",
    "                 SELECT * FROM repos\n",
    "                 ORDER BY RANDOM()\n",
    "                 LIMIT 1000\n",
    "                 \"\"\", large_db).to_sql('repos', sample_db, if_exists='append', index=False)\n",
    "\n",
    "pd.read_sql_query(\"\"\" \n",
    "                 SELECT * FROM commits\n",
    "                 ORDER BY RANDOM()\n",
    "                 LIMIT 10000\n",
    "                 \"\"\", large_db).to_sql('commits', sample_db, if_exists='append', index=False)\n"
   ]
  }
 ],
 "metadata": {
  "kernelspec": {
   "display_name": "venv",
   "language": "python",
   "name": "python3"
  },
  "language_info": {
   "codemirror_mode": {
    "name": "ipython",
    "version": 3
   },
   "file_extension": ".py",
   "mimetype": "text/x-python",
   "name": "python",
   "nbconvert_exporter": "python",
   "pygments_lexer": "ipython3",
   "version": "3.8.10"
  },
  "orig_nbformat": 4,
  "vscode": {
   "interpreter": {
    "hash": "de8e375e1164a6830b17ea51925918a6a739505d33c024295dfe22775de117d3"
   }
  }
 },
 "nbformat": 4,
 "nbformat_minor": 2
}
