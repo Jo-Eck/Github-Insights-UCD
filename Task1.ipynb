{
 "cells": [
  {
   "cell_type": "code",
   "execution_count": 49,
   "metadata": {},
   "outputs": [],
   "source": [
    "import requests\n",
    "import time\n",
    "from IPython.display import JSON\n",
    "import pandas as pd\n",
    "import configparser as cp\n",
    "import sqlalchemy as db\n",
    "from datetime import datetime"
   ]
  },
  {
   "cell_type": "code",
   "execution_count": 41,
   "metadata": {},
   "outputs": [
    {
     "data": {
      "text/plain": [
       "['config.ini']"
      ]
     },
     "execution_count": 41,
     "metadata": {},
     "output_type": "execute_result"
    }
   ],
   "source": [
    "\"\"\"\n",
    "    Reads the config file and returns the config object\n",
    "\"\"\"\n",
    "config = cp.ConfigParser()\n",
    "config.read('config.ini')"
   ]
  },
  {
   "cell_type": "code",
   "execution_count": 42,
   "metadata": {},
   "outputs": [],
   "source": [
    "def connect_to_db() -> db.engine.base.Connection:\n",
    "    \"\"\"\n",
    "        Connect to a postgres database using an url from config.ini file\n",
    "\n",
    "        Returns:\n",
    "            connection: sqlalchemy connection object\n",
    "    \"\"\"\n",
    "    engine = db.create_engine(config['DB']['URL'])\n",
    "    connection = engine.connect()\n",
    "    return connection"
   ]
  },
  {
   "cell_type": "code",
   "execution_count": 43,
   "metadata": {},
   "outputs": [
    {
     "name": "stdout",
     "output_type": "stream",
     "text": [
      "Seconds till reset: 61\n",
      "Seconds between requests: 2.033333333333333\n"
     ]
    }
   ],
   "source": [
    "rate_limit = requests.get(\n",
    "    config['API']['URL'] +\n",
    "    config['API']['RATE_LIMIT'] ,\n",
    "    auth=(\n",
    "        config['API']['USER'],    \n",
    "        config['API']['KEY']\n",
    "    )   \n",
    ").json()[\"resources\"][\"search\"] \n",
    "\n",
    "print (f\"Seconds till reset: { rate_limit['reset'] - int(time.time()) }\")\n",
    "print (f\"Seconds between requests: { (rate_limit['reset'] - int(time.time()) )/ rate_limit['remaining']  }\")\n"
   ]
  },
  {
   "cell_type": "code",
   "execution_count": 54,
   "metadata": {},
   "outputs": [
    {
     "data": {
      "application/json": {
       "allow_forking": true,
       "archive_url": "https://api.github.com/repos/freeCodeCamp/freeCodeCamp/{archive_format}{/ref}",
       "archived": false,
       "assignees_url": "https://api.github.com/repos/freeCodeCamp/freeCodeCamp/assignees{/user}",
       "blobs_url": "https://api.github.com/repos/freeCodeCamp/freeCodeCamp/git/blobs{/sha}",
       "branches_url": "https://api.github.com/repos/freeCodeCamp/freeCodeCamp/branches{/branch}",
       "clone_url": "https://github.com/freeCodeCamp/freeCodeCamp.git",
       "collaborators_url": "https://api.github.com/repos/freeCodeCamp/freeCodeCamp/collaborators{/collaborator}",
       "comments_url": "https://api.github.com/repos/freeCodeCamp/freeCodeCamp/comments{/number}",
       "commits_url": "https://api.github.com/repos/freeCodeCamp/freeCodeCamp/commits{/sha}",
       "compare_url": "https://api.github.com/repos/freeCodeCamp/freeCodeCamp/compare/{base}...{head}",
       "contents_url": "https://api.github.com/repos/freeCodeCamp/freeCodeCamp/contents/{+path}",
       "contributors_url": "https://api.github.com/repos/freeCodeCamp/freeCodeCamp/contributors",
       "created_at": "2014-12-24T17:49:19Z",
       "default_branch": "main",
       "deployments_url": "https://api.github.com/repos/freeCodeCamp/freeCodeCamp/deployments",
       "description": "freeCodeCamp.org's open-source codebase and curriculum. Learn to code for free.",
       "disabled": false,
       "downloads_url": "https://api.github.com/repos/freeCodeCamp/freeCodeCamp/downloads",
       "events_url": "https://api.github.com/repos/freeCodeCamp/freeCodeCamp/events",
       "fork": false,
       "forks": 31139,
       "forks_count": 31139,
       "forks_url": "https://api.github.com/repos/freeCodeCamp/freeCodeCamp/forks",
       "full_name": "freeCodeCamp/freeCodeCamp",
       "git_commits_url": "https://api.github.com/repos/freeCodeCamp/freeCodeCamp/git/commits{/sha}",
       "git_refs_url": "https://api.github.com/repos/freeCodeCamp/freeCodeCamp/git/refs{/sha}",
       "git_tags_url": "https://api.github.com/repos/freeCodeCamp/freeCodeCamp/git/tags{/sha}",
       "git_url": "git://github.com/freeCodeCamp/freeCodeCamp.git",
       "has_discussions": false,
       "has_downloads": true,
       "has_issues": true,
       "has_pages": true,
       "has_projects": false,
       "has_wiki": false,
       "homepage": "https://contribute.freecodecamp.org",
       "hooks_url": "https://api.github.com/repos/freeCodeCamp/freeCodeCamp/hooks",
       "html_url": "https://github.com/freeCodeCamp/freeCodeCamp",
       "id": 28457823,
       "is_template": false,
       "issue_comment_url": "https://api.github.com/repos/freeCodeCamp/freeCodeCamp/issues/comments{/number}",
       "issue_events_url": "https://api.github.com/repos/freeCodeCamp/freeCodeCamp/issues/events{/number}",
       "issues_url": "https://api.github.com/repos/freeCodeCamp/freeCodeCamp/issues{/number}",
       "keys_url": "https://api.github.com/repos/freeCodeCamp/freeCodeCamp/keys{/key_id}",
       "labels_url": "https://api.github.com/repos/freeCodeCamp/freeCodeCamp/labels{/name}",
       "language": "TypeScript",
       "languages_url": "https://api.github.com/repos/freeCodeCamp/freeCodeCamp/languages",
       "license": {
        "key": "bsd-3-clause",
        "name": "BSD 3-Clause \"New\" or \"Revised\" License",
        "node_id": "MDc6TGljZW5zZTU=",
        "spdx_id": "BSD-3-Clause",
        "url": "https://api.github.com/licenses/bsd-3-clause"
       },
       "merges_url": "https://api.github.com/repos/freeCodeCamp/freeCodeCamp/merges",
       "milestones_url": "https://api.github.com/repos/freeCodeCamp/freeCodeCamp/milestones{/number}",
       "mirror_url": null,
       "name": "freeCodeCamp",
       "node_id": "MDEwOlJlcG9zaXRvcnkyODQ1NzgyMw==",
       "notifications_url": "https://api.github.com/repos/freeCodeCamp/freeCodeCamp/notifications{?since,all,participating}",
       "open_issues": 210,
       "open_issues_count": 210,
       "owner": {
        "avatar_url": "https://avatars.githubusercontent.com/u/9892522?v=4",
        "events_url": "https://api.github.com/users/freeCodeCamp/events{/privacy}",
        "followers_url": "https://api.github.com/users/freeCodeCamp/followers",
        "following_url": "https://api.github.com/users/freeCodeCamp/following{/other_user}",
        "gists_url": "https://api.github.com/users/freeCodeCamp/gists{/gist_id}",
        "gravatar_id": "",
        "html_url": "https://github.com/freeCodeCamp",
        "id": 9892522,
        "login": "freeCodeCamp",
        "node_id": "MDEyOk9yZ2FuaXphdGlvbjk4OTI1MjI=",
        "organizations_url": "https://api.github.com/users/freeCodeCamp/orgs",
        "received_events_url": "https://api.github.com/users/freeCodeCamp/received_events",
        "repos_url": "https://api.github.com/users/freeCodeCamp/repos",
        "site_admin": false,
        "starred_url": "https://api.github.com/users/freeCodeCamp/starred{/owner}{/repo}",
        "subscriptions_url": "https://api.github.com/users/freeCodeCamp/subscriptions",
        "type": "Organization",
        "url": "https://api.github.com/users/freeCodeCamp"
       },
       "permissions": {
        "admin": false,
        "maintain": false,
        "pull": true,
        "push": false,
        "triage": false
       },
       "private": false,
       "pulls_url": "https://api.github.com/repos/freeCodeCamp/freeCodeCamp/pulls{/number}",
       "pushed_at": "2023-02-24T14:40:13Z",
       "releases_url": "https://api.github.com/repos/freeCodeCamp/freeCodeCamp/releases{/id}",
       "score": 1,
       "size": 384632,
       "ssh_url": "git@github.com:freeCodeCamp/freeCodeCamp.git",
       "stargazers_count": 361831,
       "stargazers_url": "https://api.github.com/repos/freeCodeCamp/freeCodeCamp/stargazers",
       "statuses_url": "https://api.github.com/repos/freeCodeCamp/freeCodeCamp/statuses/{sha}",
       "subscribers_url": "https://api.github.com/repos/freeCodeCamp/freeCodeCamp/subscribers",
       "subscription_url": "https://api.github.com/repos/freeCodeCamp/freeCodeCamp/subscription",
       "svn_url": "https://github.com/freeCodeCamp/freeCodeCamp",
       "tags_url": "https://api.github.com/repos/freeCodeCamp/freeCodeCamp/tags",
       "teams_url": "https://api.github.com/repos/freeCodeCamp/freeCodeCamp/teams",
       "topics": [
        "careers",
        "certification",
        "community",
        "curriculum",
        "d3",
        "education",
        "freecodecamp",
        "hacktoberfest",
        "javascript",
        "learn-to-code",
        "math",
        "nodejs",
        "nonprofits",
        "programming",
        "react",
        "teachers"
       ],
       "trees_url": "https://api.github.com/repos/freeCodeCamp/freeCodeCamp/git/trees{/sha}",
       "updated_at": "2023-02-24T15:26:43Z",
       "url": "https://api.github.com/repos/freeCodeCamp/freeCodeCamp",
       "visibility": "public",
       "watchers": 361831,
       "watchers_count": 361831,
       "web_commit_signoff_required": false
      },
      "text/plain": [
       "<IPython.core.display.JSON object>"
      ]
     },
     "execution_count": 54,
     "metadata": {
      "application/json": {
       "expanded": false,
       "root": "root"
      }
     },
     "output_type": "execute_result"
    }
   ],
   "source": [
    "JSON(\n",
    "    requests.get( \n",
    "        config['API']['URL'] +\n",
    "        config['API']['REPOS'],\n",
    "        auth=(\n",
    "            config['API']['USER'],\n",
    "            config['API']['KEY']\n",
    "        )\n",
    "    ).json()[\"items\"][0]\n",
    ")"
   ]
  }
 ],
 "metadata": {
  "kernelspec": {
   "display_name": "Python 3 (ipykernel)",
   "language": "python",
   "name": "python3"
  },
  "orig_nbformat": 4,
  "vscode": {
   "interpreter": {
    "hash": "e7370f93d1d0cde622a1f8e1c04877d8463912d04d973331ad4851f04de6915a"
   }
  }
 },
 "nbformat": 4,
 "nbformat_minor": 2
}
